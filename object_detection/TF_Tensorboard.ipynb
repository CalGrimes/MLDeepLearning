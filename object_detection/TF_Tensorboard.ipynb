{
 "cells": [
  {
   "cell_type": "code",
   "execution_count": 1,
   "id": "b81ddd42-f224-4ed6-8f77-b7527ccfe4f5",
   "metadata": {},
   "outputs": [],
   "source": [
    "# Setting the model path\n",
    "PATH_TO_MODEL = \"faster_rcnn_resnet101_v1_1024x1024_coco17_tpu-8\"\n",
    "# PATH_TO_MODEL = \"ssd_resnet152_v1_fpn_1024x1024_coco17_tpu-8\"\n",
    "#PATH_TO_MODEL = \"efficientdet_d3_coco17_tpu-32\"\n",
    "# PATH_TO_MODEL = \"efficientdet_d4_coco17_tpu-32\"\n",
    "# PATH_TO_MODEL = \"centernet_hg104_1024x1024_coco17_tpu-32\""
   ]
  },
  {
   "cell_type": "code",
   "execution_count": 2,
   "id": "82d8b780-80fb-4b96-a0b1-7022b024e1c9",
   "metadata": {},
   "outputs": [
    {
     "name": "stdout",
     "output_type": "stream",
     "text": [
      "2022-12-28 15:32:42.563144: I tensorflow/stream_executor/platform/default/dso_loader.cc:53] Successfully opened dynamic library libcudart.so.11.0\n",
      "\n",
      "NOTE: Using experimental fast data loading logic. To disable, pass\n",
      "    \"--load_fast=false\" and report issues on GitHub. More details:\n",
      "    https://github.com/tensorflow/tensorboard/issues/4784\n",
      "\n",
      "Serving TensorBoard on localhost; to expose to the network, use a proxy or pass --bind_all\n",
      "TensorBoard 2.6.0 at http://localhost:6006/ (Press CTRL+C to quit)\n",
      "^C\n"
     ]
    }
   ],
   "source": [
    "!tensorboard --logdir=training/TF2/training/{PATH_TO_MODEL}/"
   ]
  },
  {
   "cell_type": "code",
   "execution_count": null,
   "id": "a05f3721-8bce-48be-bcbe-b025546d84dd",
   "metadata": {},
   "outputs": [],
   "source": []
  }
 ],
 "metadata": {
  "kernelspec": {
   "display_name": "Python 3",
   "language": "python",
   "name": "python3"
  },
  "language_info": {
   "codemirror_mode": {
    "name": "ipython",
    "version": 3
   },
   "file_extension": ".py",
   "mimetype": "text/x-python",
   "name": "python",
   "nbconvert_exporter": "python",
   "pygments_lexer": "ipython3",
   "version": "3.8.11"
  }
 },
 "nbformat": 4,
 "nbformat_minor": 5
}
