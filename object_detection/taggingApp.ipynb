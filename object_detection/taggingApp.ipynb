{
 "cells": [
  {
   "cell_type": "code",
   "execution_count": 6,
   "id": "aeef78f8",
   "metadata": {
    "scrolled": true
   },
   "outputs": [
    {
     "data": {
      "text/plain": [
       "'/home/msc1/Desktop/Tensorflow-Object-Detection-API/Base/v1/object_detection'"
      ]
     },
     "execution_count": 6,
     "metadata": {},
     "output_type": "execute_result"
    }
   ],
   "source": [
    "pwd"
   ]
  },
  {
   "cell_type": "markdown",
   "id": "6d3c7119-dc62-4dfb-b7fb-ca380c59f79e",
   "metadata": {},
   "source": [
    "## Adjusting Labels to represent the types of birds"
   ]
  },
  {
   "cell_type": "code",
   "execution_count": 2,
   "id": "b0894e5a",
   "metadata": {},
   "outputs": [
    {
     "name": "stdout",
     "output_type": "stream",
     "text": [
      "/bin/bash: gedit: command not found\n"
     ]
    }
   ],
   "source": [
    "!gedit ./Tagging/Public/imageproject/label_candidates.json In"
   ]
  },
  {
   "cell_type": "markdown",
   "id": "adc925d0-6ff7-4d9d-9b15-62f369580cfc",
   "metadata": {},
   "source": [
    "## Opening the Tagging Application"
   ]
  },
  {
   "cell_type": "code",
   "execution_count": 1,
   "id": "08951db6",
   "metadata": {},
   "outputs": [
    {
     "name": "stdout",
     "output_type": "stream",
     "text": [
      "python: can't open file 'server.py': [Errno 2] No such file or directory\n"
     ]
    }
   ],
   "source": [
    "!python server.py"
   ]
  },
  {
   "cell_type": "markdown",
   "id": "c03d6dea-a135-40ad-8492-dc89ddbd69d6",
   "metadata": {},
   "source": [
    "## Tagging Examples"
   ]
  },
  {
   "cell_type": "markdown",
   "id": "6f329eee-d666-4390-bcec-865488dc6179",
   "metadata": {},
   "source": [
    "<img src=\"screenies/tag1.png\" width=\"520\"><img src=\"screenies/tag2.png\" width=\"520\"><img src=\"screenies/tag3.png\" width=\"520\">"
   ]
  }
 ],
 "metadata": {
  "kernelspec": {
   "display_name": "Python 3",
   "language": "python",
   "name": "python3"
  },
  "language_info": {
   "codemirror_mode": {
    "name": "ipython",
    "version": 3
   },
   "file_extension": ".py",
   "mimetype": "text/x-python",
   "name": "python",
   "nbconvert_exporter": "python",
   "pygments_lexer": "ipython3",
   "version": "3.8.11"
  }
 },
 "nbformat": 4,
 "nbformat_minor": 5
}
