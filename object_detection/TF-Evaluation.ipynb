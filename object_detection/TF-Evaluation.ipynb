{
 "cells": [
  {
   "cell_type": "code",
   "execution_count": 1,
   "id": "1777d1b7",
   "metadata": {},
   "outputs": [],
   "source": [
    "# Setting the model path\n",
    "PATH_TO_MODEL = \"faster_rcnn_resnet101_v1_1024x1024_coco17_tpu-8\"\n",
    "# PATH_TO_MODEL = \"ssd_resnet152_v1_fpn_1024x1024_coco17_tpu-8\"\n",
    "#PATH_TO_MODEL = \"efficientdet_d3_coco17_tpu-32\"\n",
    "#PATH_TO_MODEL = \"efficientdet_d4_coco17_tpu-32\"\n",
    "# PATH_TO_MODEL = \"centernet_hg104_1024x1024_coco17_tpu-32\""
   ]
  },
  {
   "cell_type": "code",
   "execution_count": null,
   "id": "dbc7c1c6-a8db-4a14-b286-8d6812884d64",
   "metadata": {
    "scrolled": true,
    "tags": []
   },
   "outputs": [
    {
     "name": "stdout",
     "output_type": "stream",
     "text": [
      "2022-12-27 19:08:50.703737: I tensorflow/stream_executor/platform/default/dso_loader.cc:53] Successfully opened dynamic library libcudart.so.11.0\n",
      "WARNING:tensorflow:Forced number of epochs for all eval validations to be 1.\n",
      "W1227 19:08:51.927455 139850875581248 model_lib_v2.py:1081] Forced number of epochs for all eval validations to be 1.\n",
      "INFO:tensorflow:Maybe overwriting sample_1_of_n_eval_examples: None\n",
      "I1227 19:08:51.927534 139850875581248 config_util.py:552] Maybe overwriting sample_1_of_n_eval_examples: None\n",
      "INFO:tensorflow:Maybe overwriting use_bfloat16: False\n",
      "I1227 19:08:51.927573 139850875581248 config_util.py:552] Maybe overwriting use_bfloat16: False\n",
      "INFO:tensorflow:Maybe overwriting eval_num_epochs: 1\n",
      "I1227 19:08:51.927609 139850875581248 config_util.py:552] Maybe overwriting eval_num_epochs: 1\n",
      "WARNING:tensorflow:Expected number of evaluation epochs is 1, but instead encountered `eval_on_train_input_config.num_epochs` = 0. Overwriting `num_epochs` to 1.\n",
      "W1227 19:08:51.927658 139850875581248 model_lib_v2.py:1099] Expected number of evaluation epochs is 1, but instead encountered `eval_on_train_input_config.num_epochs` = 0. Overwriting `num_epochs` to 1.\n",
      "2022-12-27 19:08:51.937351: I tensorflow/stream_executor/platform/default/dso_loader.cc:53] Successfully opened dynamic library libcuda.so.1\n",
      "2022-12-27 19:08:51.973332: I tensorflow/stream_executor/cuda/cuda_gpu_executor.cc:937] successful NUMA node read from SysFS had negative value (-1), but there must be at least one NUMA node, so returning NUMA node zero\n",
      "2022-12-27 19:08:51.973786: I tensorflow/core/common_runtime/gpu/gpu_device.cc:1733] Found device 0 with properties: \n",
      "pciBusID: 0000:01:00.0 name: NVIDIA GeForce RTX 3090 computeCapability: 8.6\n",
      "coreClock: 1.755GHz coreCount: 82 deviceMemorySize: 23.70GiB deviceMemoryBandwidth: 871.81GiB/s\n",
      "2022-12-27 19:08:51.973805: I tensorflow/stream_executor/platform/default/dso_loader.cc:53] Successfully opened dynamic library libcudart.so.11.0\n",
      "2022-12-27 19:08:51.975386: I tensorflow/stream_executor/platform/default/dso_loader.cc:53] Successfully opened dynamic library libcublas.so.11\n",
      "2022-12-27 19:08:51.975419: I tensorflow/stream_executor/platform/default/dso_loader.cc:53] Successfully opened dynamic library libcublasLt.so.11\n",
      "2022-12-27 19:08:51.975919: I tensorflow/stream_executor/platform/default/dso_loader.cc:53] Successfully opened dynamic library libcufft.so.10\n",
      "2022-12-27 19:08:51.976045: I tensorflow/stream_executor/platform/default/dso_loader.cc:53] Successfully opened dynamic library libcurand.so.10\n",
      "2022-12-27 19:08:51.976532: I tensorflow/stream_executor/platform/default/dso_loader.cc:53] Successfully opened dynamic library libcusolver.so.11\n",
      "2022-12-27 19:08:51.976934: I tensorflow/stream_executor/platform/default/dso_loader.cc:53] Successfully opened dynamic library libcusparse.so.11\n",
      "2022-12-27 19:08:51.977009: I tensorflow/stream_executor/platform/default/dso_loader.cc:53] Successfully opened dynamic library libcudnn.so.8\n",
      "2022-12-27 19:08:51.977057: I tensorflow/stream_executor/cuda/cuda_gpu_executor.cc:937] successful NUMA node read from SysFS had negative value (-1), but there must be at least one NUMA node, so returning NUMA node zero\n",
      "2022-12-27 19:08:51.977510: I tensorflow/stream_executor/cuda/cuda_gpu_executor.cc:937] successful NUMA node read from SysFS had negative value (-1), but there must be at least one NUMA node, so returning NUMA node zero\n",
      "2022-12-27 19:08:51.977929: I tensorflow/core/common_runtime/gpu/gpu_device.cc:1871] Adding visible gpu devices: 0\n",
      "2022-12-27 19:08:51.978091: I tensorflow/core/platform/cpu_feature_guard.cc:142] This TensorFlow binary is optimized with oneAPI Deep Neural Network Library (oneDNN) to use the following CPU instructions in performance-critical operations:  AVX2 FMA\n",
      "To enable them in other operations, rebuild TensorFlow with the appropriate compiler flags.\n",
      "2022-12-27 19:08:51.978584: I tensorflow/stream_executor/cuda/cuda_gpu_executor.cc:937] successful NUMA node read from SysFS had negative value (-1), but there must be at least one NUMA node, so returning NUMA node zero\n",
      "2022-12-27 19:08:51.979006: I tensorflow/core/common_runtime/gpu/gpu_device.cc:1733] Found device 0 with properties: \n",
      "pciBusID: 0000:01:00.0 name: NVIDIA GeForce RTX 3090 computeCapability: 8.6\n",
      "coreClock: 1.755GHz coreCount: 82 deviceMemorySize: 23.70GiB deviceMemoryBandwidth: 871.81GiB/s\n",
      "2022-12-27 19:08:51.979046: I tensorflow/stream_executor/cuda/cuda_gpu_executor.cc:937] successful NUMA node read from SysFS had negative value (-1), but there must be at least one NUMA node, so returning NUMA node zero\n",
      "2022-12-27 19:08:51.979487: I tensorflow/stream_executor/cuda/cuda_gpu_executor.cc:937] successful NUMA node read from SysFS had negative value (-1), but there must be at least one NUMA node, so returning NUMA node zero\n",
      "2022-12-27 19:08:51.979899: I tensorflow/core/common_runtime/gpu/gpu_device.cc:1871] Adding visible gpu devices: 0\n",
      "2022-12-27 19:08:51.979916: I tensorflow/stream_executor/platform/default/dso_loader.cc:53] Successfully opened dynamic library libcudart.so.11.0\n",
      "2022-12-27 19:08:52.268190: I tensorflow/core/common_runtime/gpu/gpu_device.cc:1258] Device interconnect StreamExecutor with strength 1 edge matrix:\n",
      "2022-12-27 19:08:52.268211: I tensorflow/core/common_runtime/gpu/gpu_device.cc:1264]      0 \n",
      "2022-12-27 19:08:52.268218: I tensorflow/core/common_runtime/gpu/gpu_device.cc:1277] 0:   N \n",
      "2022-12-27 19:08:52.268339: I tensorflow/stream_executor/cuda/cuda_gpu_executor.cc:937] successful NUMA node read from SysFS had negative value (-1), but there must be at least one NUMA node, so returning NUMA node zero\n",
      "2022-12-27 19:08:52.268816: I tensorflow/stream_executor/cuda/cuda_gpu_executor.cc:937] successful NUMA node read from SysFS had negative value (-1), but there must be at least one NUMA node, so returning NUMA node zero\n",
      "2022-12-27 19:08:52.269258: I tensorflow/stream_executor/cuda/cuda_gpu_executor.cc:937] successful NUMA node read from SysFS had negative value (-1), but there must be at least one NUMA node, so returning NUMA node zero\n",
      "2022-12-27 19:08:52.269698: I tensorflow/core/common_runtime/gpu/gpu_device.cc:1418] Created TensorFlow device (/job:localhost/replica:0/task:0/device:GPU:0 with 22289 MB memory) -> physical GPU (device: 0, name: NVIDIA GeForce RTX 3090, pci bus id: 0000:01:00.0, compute capability: 8.6)\n",
      "INFO:tensorflow:Reading unweighted datasets: ['data/test.record']\n",
      "I1227 19:08:52.433956 139850875581248 dataset_builder.py:163] Reading unweighted datasets: ['data/test.record']\n",
      "INFO:tensorflow:Reading record datasets for input file: ['data/test.record']\n",
      "I1227 19:08:52.434060 139850875581248 dataset_builder.py:80] Reading record datasets for input file: ['data/test.record']\n",
      "INFO:tensorflow:Number of filenames to read: 1\n",
      "I1227 19:08:52.434099 139850875581248 dataset_builder.py:81] Number of filenames to read: 1\n",
      "WARNING:tensorflow:num_readers has been reduced to 1 to match input file shards.\n",
      "W1227 19:08:52.434133 139850875581248 dataset_builder.py:87] num_readers has been reduced to 1 to match input file shards.\n",
      "WARNING:tensorflow:From /home/msc1/anaconda3/envs/Object-Detection-API/lib/python3.8/site-packages/object_detection/builders/dataset_builder.py:101: parallel_interleave (from tensorflow.python.data.experimental.ops.interleave_ops) is deprecated and will be removed in a future version.\n",
      "Instructions for updating:\n",
      "Use `tf.data.Dataset.interleave(map_func, cycle_length, block_length, num_parallel_calls=tf.data.AUTOTUNE)` instead. If sloppy execution is desired, use `tf.data.Options.experimental_deterministic`.\n",
      "W1227 19:08:52.435021 139850875581248 deprecation.py:330] From /home/msc1/anaconda3/envs/Object-Detection-API/lib/python3.8/site-packages/object_detection/builders/dataset_builder.py:101: parallel_interleave (from tensorflow.python.data.experimental.ops.interleave_ops) is deprecated and will be removed in a future version.\n",
      "Instructions for updating:\n",
      "Use `tf.data.Dataset.interleave(map_func, cycle_length, block_length, num_parallel_calls=tf.data.AUTOTUNE)` instead. If sloppy execution is desired, use `tf.data.Options.experimental_deterministic`.\n",
      "WARNING:tensorflow:From /home/msc1/anaconda3/envs/Object-Detection-API/lib/python3.8/site-packages/object_detection/builders/dataset_builder.py:236: DatasetV1.map_with_legacy_function (from tensorflow.python.data.ops.dataset_ops) is deprecated and will be removed in a future version.\n",
      "Instructions for updating:\n",
      "Use `tf.data.Dataset.map()\n",
      "W1227 19:08:52.445697 139850875581248 deprecation.py:330] From /home/msc1/anaconda3/envs/Object-Detection-API/lib/python3.8/site-packages/object_detection/builders/dataset_builder.py:236: DatasetV1.map_with_legacy_function (from tensorflow.python.data.ops.dataset_ops) is deprecated and will be removed in a future version.\n",
      "Instructions for updating:\n",
      "Use `tf.data.Dataset.map()\n",
      "WARNING:tensorflow:From /home/msc1/anaconda3/envs/Object-Detection-API/lib/python3.8/site-packages/tensorflow/python/util/dispatch.py:206: sparse_to_dense (from tensorflow.python.ops.sparse_ops) is deprecated and will be removed in a future version.\n",
      "Instructions for updating:\n",
      "Create a `tf.sparse.SparseTensor` and use `tf.sparse.to_dense` instead.\n",
      "W1227 19:08:54.398688 139850875581248 deprecation.py:330] From /home/msc1/anaconda3/envs/Object-Detection-API/lib/python3.8/site-packages/tensorflow/python/util/dispatch.py:206: sparse_to_dense (from tensorflow.python.ops.sparse_ops) is deprecated and will be removed in a future version.\n",
      "Instructions for updating:\n",
      "Create a `tf.sparse.SparseTensor` and use `tf.sparse.to_dense` instead.\n",
      "WARNING:tensorflow:From /home/msc1/anaconda3/envs/Object-Detection-API/lib/python3.8/site-packages/tensorflow/python/autograph/impl/api.py:464: to_float (from tensorflow.python.ops.math_ops) is deprecated and will be removed in a future version.\n",
      "Instructions for updating:\n",
      "Use `tf.cast` instead.\n",
      "W1227 19:08:55.012308 139850875581248 deprecation.py:330] From /home/msc1/anaconda3/envs/Object-Detection-API/lib/python3.8/site-packages/tensorflow/python/autograph/impl/api.py:464: to_float (from tensorflow.python.ops.math_ops) is deprecated and will be removed in a future version.\n",
      "Instructions for updating:\n",
      "Use `tf.cast` instead.\n",
      "INFO:tensorflow:Waiting for new checkpoint at training/TF2/training/faster_rcnn_resnet101_v1_1024x1024_coco17_tpu-8\n",
      "I1227 19:08:56.340739 139850875581248 checkpoint_utils.py:140] Waiting for new checkpoint at training/TF2/training/faster_rcnn_resnet101_v1_1024x1024_coco17_tpu-8\n",
      "INFO:tensorflow:Found new checkpoint at training/TF2/training/faster_rcnn_resnet101_v1_1024x1024_coco17_tpu-8/ckpt-6\n",
      "I1227 19:08:56.341244 139850875581248 checkpoint_utils.py:149] Found new checkpoint at training/TF2/training/faster_rcnn_resnet101_v1_1024x1024_coco17_tpu-8/ckpt-6\n",
      "/home/msc1/anaconda3/envs/Object-Detection-API/lib/python3.8/site-packages/tensorflow/python/keras/backend.py:435: UserWarning: `tf.keras.backend.set_learning_phase` is deprecated and will be removed after 2020-10-11. To update it, simply pass a True/False value to the `training` argument of the `__call__` method of your layer or model.\n",
      "  warnings.warn('`tf.keras.backend.set_learning_phase` is deprecated and '\n",
      "2022-12-27 19:08:56.408228: I tensorflow/compiler/mlir/mlir_graph_optimization_pass.cc:176] None of the MLIR Optimization Passes are enabled (registered 2)\n",
      "2022-12-27 19:08:56.425755: I tensorflow/core/platform/profile_utils/cpu_utils.cc:114] CPU Frequency: 3699850000 Hz\n",
      "INFO:tensorflow:depth of additional conv before box predictor: 0\n",
      "I1227 19:09:00.562393 139850875581248 convolutional_keras_box_predictor.py:153] depth of additional conv before box predictor: 0\n",
      "WARNING:tensorflow:From /home/msc1/anaconda3/envs/Object-Detection-API/lib/python3.8/site-packages/tensorflow/python/autograph/impl/api.py:464: Tensor.experimental_ref (from tensorflow.python.framework.ops) is deprecated and will be removed in a future version.\n",
      "Instructions for updating:\n",
      "Use ref() instead.\n",
      "W1227 19:09:04.093057 139850875581248 deprecation.py:330] From /home/msc1/anaconda3/envs/Object-Detection-API/lib/python3.8/site-packages/tensorflow/python/autograph/impl/api.py:464: Tensor.experimental_ref (from tensorflow.python.framework.ops) is deprecated and will be removed in a future version.\n",
      "Instructions for updating:\n",
      "Use ref() instead.\n",
      "WARNING:tensorflow:From /home/msc1/anaconda3/envs/Object-Detection-API/lib/python3.8/site-packages/tensorflow/python/util/dispatch.py:206: softmax_cross_entropy_with_logits (from tensorflow.python.ops.nn_ops) is deprecated and will be removed in a future version.\n",
      "Instructions for updating:\n",
      "\n",
      "Future major versions of TensorFlow will allow gradients to flow\n",
      "into the labels input on backprop by default.\n",
      "\n",
      "See `tf.nn.softmax_cross_entropy_with_logits_v2`.\n",
      "\n",
      "W1227 19:09:06.436082 139850875581248 deprecation.py:330] From /home/msc1/anaconda3/envs/Object-Detection-API/lib/python3.8/site-packages/tensorflow/python/util/dispatch.py:206: softmax_cross_entropy_with_logits (from tensorflow.python.ops.nn_ops) is deprecated and will be removed in a future version.\n",
      "Instructions for updating:\n",
      "\n",
      "Future major versions of TensorFlow will allow gradients to flow\n",
      "into the labels input on backprop by default.\n",
      "\n",
      "See `tf.nn.softmax_cross_entropy_with_logits_v2`.\n",
      "\n",
      "2022-12-27 19:09:12.061489: I tensorflow/stream_executor/platform/default/dso_loader.cc:53] Successfully opened dynamic library libcudnn.so.8\n",
      "2022-12-27 19:09:12.440480: I tensorflow/stream_executor/cuda/cuda_dnn.cc:359] Loaded cuDNN version 8100\n",
      "2022-12-27 19:09:12.465610: I tensorflow/stream_executor/platform/default/dso_loader.cc:53] Successfully opened dynamic library libcublas.so.11\n",
      "2022-12-27 19:09:13.304705: I tensorflow/stream_executor/platform/default/dso_loader.cc:53] Successfully opened dynamic library libcublasLt.so.11\n",
      "2022-12-27 19:09:13.304780: I tensorflow/stream_executor/cuda/cuda_blas.cc:1838] TensorFloat-32 will be used for the matrix multiplication. This will only be logged once.\n",
      "WARNING:tensorflow:From /home/msc1/anaconda3/envs/Object-Detection-API/lib/python3.8/site-packages/object_detection/eval_util.py:929: to_int64 (from tensorflow.python.ops.math_ops) is deprecated and will be removed in a future version.\n",
      "Instructions for updating:\n",
      "Use `tf.cast` instead.\n",
      "W1227 19:09:13.893970 139850875581248 deprecation.py:330] From /home/msc1/anaconda3/envs/Object-Detection-API/lib/python3.8/site-packages/object_detection/eval_util.py:929: to_int64 (from tensorflow.python.ops.math_ops) is deprecated and will be removed in a future version.\n",
      "Instructions for updating:\n",
      "Use `tf.cast` instead.\n",
      "INFO:tensorflow:Finished eval step 0\n",
      "I1227 19:09:13.898003 139850875581248 model_lib_v2.py:958] Finished eval step 0\n",
      "WARNING:tensorflow:From /home/msc1/anaconda3/envs/Object-Detection-API/lib/python3.8/site-packages/tensorflow/python/autograph/impl/api.py:464: py_func (from tensorflow.python.ops.script_ops) is deprecated and will be removed in a future version.\n",
      "Instructions for updating:\n",
      "tf.py_func is deprecated in TF V2. Instead, there are two\n",
      "    options available in V2.\n",
      "    - tf.py_function takes a python function which manipulates tf eager\n",
      "    tensors instead of numpy arrays. It's easy to convert a tf eager tensor to\n",
      "    an ndarray (just call tensor.numpy()) but having access to eager tensors\n",
      "    means `tf.py_function`s can use accelerators such as GPUs as well as\n",
      "    being differentiable using a gradient tape.\n",
      "    - tf.numpy_function maintains the semantics of the deprecated tf.py_func\n",
      "    (it is not differentiable, and manipulates numpy arrays). It drops the\n",
      "    stateful argument making all functions stateful.\n",
      "    \n",
      "W1227 19:09:13.968904 139850875581248 deprecation.py:330] From /home/msc1/anaconda3/envs/Object-Detection-API/lib/python3.8/site-packages/tensorflow/python/autograph/impl/api.py:464: py_func (from tensorflow.python.ops.script_ops) is deprecated and will be removed in a future version.\n",
      "Instructions for updating:\n",
      "tf.py_func is deprecated in TF V2. Instead, there are two\n",
      "    options available in V2.\n",
      "    - tf.py_function takes a python function which manipulates tf eager\n",
      "    tensors instead of numpy arrays. It's easy to convert a tf eager tensor to\n",
      "    an ndarray (just call tensor.numpy()) but having access to eager tensors\n",
      "    means `tf.py_function`s can use accelerators such as GPUs as well as\n",
      "    being differentiable using a gradient tape.\n",
      "    - tf.numpy_function maintains the semantics of the deprecated tf.py_func\n",
      "    (it is not differentiable, and manipulates numpy arrays). It drops the\n",
      "    stateful argument making all functions stateful.\n",
      "    \n",
      "INFO:tensorflow:Finished eval step 100\n",
      "I1227 19:09:22.948885 139850875581248 model_lib_v2.py:958] Finished eval step 100\n",
      "INFO:tensorflow:Finished eval step 200\n",
      "I1227 19:09:29.800265 139850875581248 model_lib_v2.py:958] Finished eval step 200\n",
      "INFO:tensorflow:Finished eval step 300\n",
      "I1227 19:09:36.633766 139850875581248 model_lib_v2.py:958] Finished eval step 300\n",
      "INFO:tensorflow:Finished eval step 400\n",
      "I1227 19:09:43.416358 139850875581248 model_lib_v2.py:958] Finished eval step 400\n",
      "INFO:tensorflow:Finished eval step 500\n",
      "I1227 19:09:50.254903 139850875581248 model_lib_v2.py:958] Finished eval step 500\n",
      "INFO:tensorflow:Finished eval step 600\n",
      "I1227 19:09:57.358282 139850875581248 model_lib_v2.py:958] Finished eval step 600\n",
      "INFO:tensorflow:Performing evaluation on 653 images.\n",
      "I1227 19:10:01.016712 139850875581248 coco_evaluation.py:293] Performing evaluation on 653 images.\n",
      "creating index...\n",
      "index created!\n",
      "INFO:tensorflow:Loading and preparing annotation results...\n",
      "I1227 19:10:01.018182 139850875581248 coco_tools.py:116] Loading and preparing annotation results...\n",
      "INFO:tensorflow:DONE (t=0.03s)\n",
      "I1227 19:10:01.046396 139850875581248 coco_tools.py:138] DONE (t=0.03s)\n",
      "creating index...\n",
      "index created!\n",
      "Running per image evaluation...\n",
      "Evaluate annotation type *bbox*\n",
      "DONE (t=2.01s).\n",
      "Accumulating evaluation results...\n",
      "DONE (t=0.42s).\n",
      " Average Precision  (AP) @[ IoU=0.50:0.95 | area=   all | maxDets=100 ] = 0.001\n",
      " Average Precision  (AP) @[ IoU=0.50      | area=   all | maxDets=100 ] = 0.004\n",
      " Average Precision  (AP) @[ IoU=0.75      | area=   all | maxDets=100 ] = 0.000\n",
      " Average Precision  (AP) @[ IoU=0.50:0.95 | area= small | maxDets=100 ] = -1.000\n",
      " Average Precision  (AP) @[ IoU=0.50:0.95 | area=medium | maxDets=100 ] = 0.000\n",
      " Average Precision  (AP) @[ IoU=0.50:0.95 | area= large | maxDets=100 ] = 0.001\n",
      " Average Recall     (AR) @[ IoU=0.50:0.95 | area=   all | maxDets=  1 ] = 0.008\n",
      " Average Recall     (AR) @[ IoU=0.50:0.95 | area=   all | maxDets= 10 ] = 0.035\n",
      " Average Recall     (AR) @[ IoU=0.50:0.95 | area=   all | maxDets=100 ] = 0.114\n",
      " Average Recall     (AR) @[ IoU=0.50:0.95 | area= small | maxDets=100 ] = -1.000\n",
      " Average Recall     (AR) @[ IoU=0.50:0.95 | area=medium | maxDets=100 ] = 0.015\n",
      " Average Recall     (AR) @[ IoU=0.50:0.95 | area= large | maxDets=100 ] = 0.118\n",
      "INFO:tensorflow:Eval metrics at step 5000\n",
      "I1227 19:10:03.521995 139850875581248 model_lib_v2.py:1007] Eval metrics at step 5000\n",
      "INFO:tensorflow:\t+ DetectionBoxes_Precision/mAP: 0.000794\n",
      "I1227 19:10:03.526182 139850875581248 model_lib_v2.py:1010] \t+ DetectionBoxes_Precision/mAP: 0.000794\n",
      "INFO:tensorflow:\t+ DetectionBoxes_Precision/mAP@.50IOU: 0.004059\n",
      "I1227 19:10:03.526804 139850875581248 model_lib_v2.py:1010] \t+ DetectionBoxes_Precision/mAP@.50IOU: 0.004059\n",
      "INFO:tensorflow:\t+ DetectionBoxes_Precision/mAP@.75IOU: 0.000012\n",
      "I1227 19:10:03.527293 139850875581248 model_lib_v2.py:1010] \t+ DetectionBoxes_Precision/mAP@.75IOU: 0.000012\n",
      "INFO:tensorflow:\t+ DetectionBoxes_Precision/mAP (small): -1.000000\n",
      "I1227 19:10:03.527757 139850875581248 model_lib_v2.py:1010] \t+ DetectionBoxes_Precision/mAP (small): -1.000000\n",
      "INFO:tensorflow:\t+ DetectionBoxes_Precision/mAP (medium): 0.000305\n",
      "I1227 19:10:03.528216 139850875581248 model_lib_v2.py:1010] \t+ DetectionBoxes_Precision/mAP (medium): 0.000305\n",
      "INFO:tensorflow:\t+ DetectionBoxes_Precision/mAP (large): 0.000817\n",
      "I1227 19:10:03.528694 139850875581248 model_lib_v2.py:1010] \t+ DetectionBoxes_Precision/mAP (large): 0.000817\n",
      "INFO:tensorflow:\t+ DetectionBoxes_Recall/AR@1: 0.008403\n",
      "I1227 19:10:03.529148 139850875581248 model_lib_v2.py:1010] \t+ DetectionBoxes_Recall/AR@1: 0.008403\n",
      "INFO:tensorflow:\t+ DetectionBoxes_Recall/AR@10: 0.035244\n",
      "I1227 19:10:03.529604 139850875581248 model_lib_v2.py:1010] \t+ DetectionBoxes_Recall/AR@10: 0.035244\n",
      "INFO:tensorflow:\t+ DetectionBoxes_Recall/AR@100: 0.114272\n",
      "I1227 19:10:03.530063 139850875581248 model_lib_v2.py:1010] \t+ DetectionBoxes_Recall/AR@100: 0.114272\n",
      "INFO:tensorflow:\t+ DetectionBoxes_Recall/AR@100 (small): -1.000000\n",
      "I1227 19:10:03.530489 139850875581248 model_lib_v2.py:1010] \t+ DetectionBoxes_Recall/AR@100 (small): -1.000000\n",
      "INFO:tensorflow:\t+ DetectionBoxes_Recall/AR@100 (medium): 0.015278\n",
      "I1227 19:10:03.530958 139850875581248 model_lib_v2.py:1010] \t+ DetectionBoxes_Recall/AR@100 (medium): 0.015278\n",
      "INFO:tensorflow:\t+ DetectionBoxes_Recall/AR@100 (large): 0.118419\n",
      "I1227 19:10:03.531434 139850875581248 model_lib_v2.py:1010] \t+ DetectionBoxes_Recall/AR@100 (large): 0.118419\n",
      "INFO:tensorflow:\t+ Loss/RPNLoss/localization_loss: 0.135407\n",
      "I1227 19:10:03.531814 139850875581248 model_lib_v2.py:1010] \t+ Loss/RPNLoss/localization_loss: 0.135407\n",
      "INFO:tensorflow:\t+ Loss/RPNLoss/objectness_loss: 0.241165\n",
      "I1227 19:10:03.532197 139850875581248 model_lib_v2.py:1010] \t+ Loss/RPNLoss/objectness_loss: 0.241165\n",
      "INFO:tensorflow:\t+ Loss/BoxClassifierLoss/localization_loss: 4.213721\n",
      "I1227 19:10:03.532576 139850875581248 model_lib_v2.py:1010] \t+ Loss/BoxClassifierLoss/localization_loss: 4.213721\n",
      "INFO:tensorflow:\t+ Loss/BoxClassifierLoss/classification_loss: 0.127725\n",
      "I1227 19:10:03.532954 139850875581248 model_lib_v2.py:1010] \t+ Loss/BoxClassifierLoss/classification_loss: 0.127725\n",
      "INFO:tensorflow:\t+ Loss/regularization_loss: 0.000000\n",
      "I1227 19:10:03.533333 139850875581248 model_lib_v2.py:1010] \t+ Loss/regularization_loss: 0.000000\n",
      "INFO:tensorflow:\t+ Loss/total_loss: 4.718019\n",
      "I1227 19:10:03.533716 139850875581248 model_lib_v2.py:1010] \t+ Loss/total_loss: 4.718019\n",
      "INFO:tensorflow:Waiting for new checkpoint at training/TF2/training/faster_rcnn_resnet101_v1_1024x1024_coco17_tpu-8\n",
      "I1227 19:13:56.441393 139850875581248 checkpoint_utils.py:140] Waiting for new checkpoint at training/TF2/training/faster_rcnn_resnet101_v1_1024x1024_coco17_tpu-8\n"
     ]
    }
   ],
   "source": [
    "!set CUDA_VISIBLE_DEVICES=\"-1\" & python model_main_tf2.py --pipeline_config_path=training/TF2/training/{PATH_TO_MODEL}/pipeline.config --model_dir=training/TF2/training/{PATH_TO_MODEL} --checkpoint_dir=training/TF2/training/{PATH_TO_MODEL} --alsologtostderr"
   ]
  },
  {
   "cell_type": "code",
   "execution_count": 4,
   "id": "09bce534-9ca1-4336-83f7-d2598a5fb29f",
   "metadata": {
    "scrolled": true,
    "tags": []
   },
   "outputs": [
    {
     "name": "stdout",
     "output_type": "stream",
     "text": [
      "2022-12-27 11:02:09.661319: I tensorflow/stream_executor/platform/default/dso_loader.cc:53] Successfully opened dynamic library libcudart.so.11.0\n",
      "2022-12-27 11:02:10.734321: I tensorflow/stream_executor/platform/default/dso_loader.cc:53] Successfully opened dynamic library libcuda.so.1\n",
      "2022-12-27 11:02:10.769822: I tensorflow/stream_executor/cuda/cuda_gpu_executor.cc:937] successful NUMA node read from SysFS had negative value (-1), but there must be at least one NUMA node, so returning NUMA node zero\n",
      "2022-12-27 11:02:10.770285: I tensorflow/core/common_runtime/gpu/gpu_device.cc:1733] Found device 0 with properties: \n",
      "pciBusID: 0000:01:00.0 name: NVIDIA GeForce RTX 3090 computeCapability: 8.6\n",
      "coreClock: 1.755GHz coreCount: 82 deviceMemorySize: 23.70GiB deviceMemoryBandwidth: 871.81GiB/s\n",
      "2022-12-27 11:02:10.770304: I tensorflow/stream_executor/platform/default/dso_loader.cc:53] Successfully opened dynamic library libcudart.so.11.0\n",
      "2022-12-27 11:02:10.771959: I tensorflow/stream_executor/platform/default/dso_loader.cc:53] Successfully opened dynamic library libcublas.so.11\n",
      "2022-12-27 11:02:10.771988: I tensorflow/stream_executor/platform/default/dso_loader.cc:53] Successfully opened dynamic library libcublasLt.so.11\n",
      "2022-12-27 11:02:10.772485: I tensorflow/stream_executor/platform/default/dso_loader.cc:53] Successfully opened dynamic library libcufft.so.10\n",
      "2022-12-27 11:02:10.772608: I tensorflow/stream_executor/platform/default/dso_loader.cc:53] Successfully opened dynamic library libcurand.so.10\n",
      "2022-12-27 11:02:10.773072: I tensorflow/stream_executor/platform/default/dso_loader.cc:53] Successfully opened dynamic library libcusolver.so.11\n",
      "2022-12-27 11:02:10.773472: I tensorflow/stream_executor/platform/default/dso_loader.cc:53] Successfully opened dynamic library libcusparse.so.11\n",
      "2022-12-27 11:02:10.773543: I tensorflow/stream_executor/platform/default/dso_loader.cc:53] Successfully opened dynamic library libcudnn.so.8\n",
      "2022-12-27 11:02:10.773594: I tensorflow/stream_executor/cuda/cuda_gpu_executor.cc:937] successful NUMA node read from SysFS had negative value (-1), but there must be at least one NUMA node, so returning NUMA node zero\n",
      "2022-12-27 11:02:10.774085: I tensorflow/stream_executor/cuda/cuda_gpu_executor.cc:937] successful NUMA node read from SysFS had negative value (-1), but there must be at least one NUMA node, so returning NUMA node zero\n",
      "2022-12-27 11:02:10.774518: I tensorflow/core/common_runtime/gpu/gpu_device.cc:1871] Adding visible gpu devices: 0\n",
      "2022-12-27 11:02:10.774683: I tensorflow/core/platform/cpu_feature_guard.cc:142] This TensorFlow binary is optimized with oneAPI Deep Neural Network Library (oneDNN) to use the following CPU instructions in performance-critical operations:  AVX2 FMA\n",
      "To enable them in other operations, rebuild TensorFlow with the appropriate compiler flags.\n",
      "2022-12-27 11:02:10.775161: I tensorflow/stream_executor/cuda/cuda_gpu_executor.cc:937] successful NUMA node read from SysFS had negative value (-1), but there must be at least one NUMA node, so returning NUMA node zero\n",
      "2022-12-27 11:02:10.775597: I tensorflow/core/common_runtime/gpu/gpu_device.cc:1733] Found device 0 with properties: \n",
      "pciBusID: 0000:01:00.0 name: NVIDIA GeForce RTX 3090 computeCapability: 8.6\n",
      "coreClock: 1.755GHz coreCount: 82 deviceMemorySize: 23.70GiB deviceMemoryBandwidth: 871.81GiB/s\n",
      "2022-12-27 11:02:10.775638: I tensorflow/stream_executor/cuda/cuda_gpu_executor.cc:937] successful NUMA node read from SysFS had negative value (-1), but there must be at least one NUMA node, so returning NUMA node zero\n",
      "2022-12-27 11:02:10.776090: I tensorflow/stream_executor/cuda/cuda_gpu_executor.cc:937] successful NUMA node read from SysFS had negative value (-1), but there must be at least one NUMA node, so returning NUMA node zero\n",
      "2022-12-27 11:02:10.776514: I tensorflow/core/common_runtime/gpu/gpu_device.cc:1871] Adding visible gpu devices: 0\n",
      "2022-12-27 11:02:10.776534: I tensorflow/stream_executor/platform/default/dso_loader.cc:53] Successfully opened dynamic library libcudart.so.11.0\n",
      "2022-12-27 11:02:11.067279: I tensorflow/core/common_runtime/gpu/gpu_device.cc:1258] Device interconnect StreamExecutor with strength 1 edge matrix:\n",
      "2022-12-27 11:02:11.067299: I tensorflow/core/common_runtime/gpu/gpu_device.cc:1264]      0 \n",
      "2022-12-27 11:02:11.067304: I tensorflow/core/common_runtime/gpu/gpu_device.cc:1277] 0:   N \n",
      "2022-12-27 11:02:11.067412: I tensorflow/stream_executor/cuda/cuda_gpu_executor.cc:937] successful NUMA node read from SysFS had negative value (-1), but there must be at least one NUMA node, so returning NUMA node zero\n",
      "2022-12-27 11:02:11.067882: I tensorflow/stream_executor/cuda/cuda_gpu_executor.cc:937] successful NUMA node read from SysFS had negative value (-1), but there must be at least one NUMA node, so returning NUMA node zero\n",
      "2022-12-27 11:02:11.068327: I tensorflow/stream_executor/cuda/cuda_gpu_executor.cc:937] successful NUMA node read from SysFS had negative value (-1), but there must be at least one NUMA node, so returning NUMA node zero\n",
      "2022-12-27 11:02:11.068756: I tensorflow/core/common_runtime/gpu/gpu_device.cc:1418] Created TensorFlow device (/job:localhost/replica:0/task:0/device:GPU:0 with 22289 MB memory) -> physical GPU (device: 0, name: NVIDIA GeForce RTX 3090, pci bus id: 0000:01:00.0, compute capability: 8.6)\n",
      "WARNING:tensorflow:From /home/msc1/anaconda3/envs/Object-Detection-API/lib/python3.8/site-packages/tensorflow/python/autograph/impl/api.py:463: calling map_fn_v2 (from tensorflow.python.ops.map_fn) with back_prop=False is deprecated and will be removed in a future version.\n",
      "Instructions for updating:\n",
      "back_prop=False is deprecated. Consider using tf.stop_gradient instead.\n",
      "Instead of:\n",
      "results = tf.map_fn(fn, elems, back_prop=False)\n",
      "Use:\n",
      "results = tf.nest.map_structure(tf.stop_gradient, tf.map_fn(fn, elems))\n",
      "W1227 11:02:11.355446 139809840149312 deprecation.py:596] From /home/msc1/anaconda3/envs/Object-Detection-API/lib/python3.8/site-packages/tensorflow/python/autograph/impl/api.py:463: calling map_fn_v2 (from tensorflow.python.ops.map_fn) with back_prop=False is deprecated and will be removed in a future version.\n",
      "Instructions for updating:\n",
      "back_prop=False is deprecated. Consider using tf.stop_gradient instead.\n",
      "Instead of:\n",
      "results = tf.map_fn(fn, elems, back_prop=False)\n",
      "Use:\n",
      "results = tf.nest.map_structure(tf.stop_gradient, tf.map_fn(fn, elems))\n",
      "WARNING:tensorflow:Skipping full serialization of Keras layer <object_detection.meta_architectures.ssd_meta_arch.SSDMetaArch object at 0x7f26e436eb80>, because it is not built.\n",
      "W1227 11:02:37.378889 139809840149312 save_impl.py:76] Skipping full serialization of Keras layer <object_detection.meta_architectures.ssd_meta_arch.SSDMetaArch object at 0x7f26e436eb80>, because it is not built.\n",
      "2022-12-27 11:02:52.739292: W tensorflow/python/util/util.cc:348] Sets are not currently considered sequences, but this may change in the future, so consider avoiding using them.\n",
      "W1227 11:03:22.989100 139809840149312 save.py:238] Found untraced functions such as WeightSharedConvolutionalBoxPredictor_layer_call_and_return_conditional_losses, WeightSharedConvolutionalBoxPredictor_layer_call_fn, WeightSharedConvolutionalBoxHead_layer_call_and_return_conditional_losses, WeightSharedConvolutionalBoxHead_layer_call_fn, WeightSharedConvolutionalBoxPredictor_layer_call_fn while saving (showing 5 of 520). These functions will not be directly callable after loading.\n",
      "/home/msc1/anaconda3/envs/Object-Detection-API/lib/python3.8/site-packages/tensorflow/python/keras/utils/generic_utils.py:494: CustomMaskWarning: Custom mask layers require a config and must override get_config. When loading, the custom mask layer must be passed to the custom_objects argument.\n",
      "  warnings.warn('Custom mask layers require a config and must override '\n",
      "WARNING:tensorflow:FOR KERAS USERS: The object that you are saving contains one or more Keras models or layers. If you are loading the SavedModel with `tf.keras.models.load_model`, continue reading (otherwise, you may ignore the following instructions). Please change your code to save with `tf.keras.models.save_model` or `model.save`, and confirm that the file \"keras.metadata\" exists in the export directory. In the future, Keras will only load the SavedModels that have this file. In other words, `tf.saved_model.save` will no longer write SavedModels that can be recovered as Keras models (this will apply in TF 2.5).\n",
      "\n",
      "FOR DEVS: If you are overwriting _tracking_metadata in your class, this property has been used to save metadata in the SavedModel. The metadta field will be deprecated soon, so please move the metadata to a different file.\n",
      "W1227 11:03:30.864432 139809840149312 save.py:1239] FOR KERAS USERS: The object that you are saving contains one or more Keras models or layers. If you are loading the SavedModel with `tf.keras.models.load_model`, continue reading (otherwise, you may ignore the following instructions). Please change your code to save with `tf.keras.models.save_model` or `model.save`, and confirm that the file \"keras.metadata\" exists in the export directory. In the future, Keras will only load the SavedModels that have this file. In other words, `tf.saved_model.save` will no longer write SavedModels that can be recovered as Keras models (this will apply in TF 2.5).\n",
      "\n",
      "FOR DEVS: If you are overwriting _tracking_metadata in your class, this property has been used to save metadata in the SavedModel. The metadta field will be deprecated soon, so please move the metadata to a different file.\n",
      "INFO:tensorflow:Assets written to: ./training/TF2/training/ssd_resnet152_v1_fpn_1024x1024_coco17_tpu-8/saved_model/saved_model/assets\n",
      "I1227 11:03:31.734916 139809840149312 builder_impl.py:774] Assets written to: ./training/TF2/training/ssd_resnet152_v1_fpn_1024x1024_coco17_tpu-8/saved_model/saved_model/assets\n",
      "INFO:tensorflow:Writing pipeline config file to ./training/TF2/training/ssd_resnet152_v1_fpn_1024x1024_coco17_tpu-8/saved_model/pipeline.config\n",
      "I1227 11:03:33.097144 139809840149312 config_util.py:253] Writing pipeline config file to ./training/TF2/training/ssd_resnet152_v1_fpn_1024x1024_coco17_tpu-8/saved_model/pipeline.config\n"
     ]
    }
   ],
   "source": [
    "!python exporter_main_v2.py --input_type image_tensor --pipeline_config_path ./training/TF2/training/{PATH_TO_MODEL}/pipeline.config --trained_checkpoint_dir ./training/TF2/training/{PATH_TO_MODEL}/ --output_directory ./training/TF2/training/{PATH_TO_MODEL}/saved_model/"
   ]
  },
  {
   "cell_type": "markdown",
   "id": "5c20874c-5fcc-40b4-a204-86a9c8cbab62",
   "metadata": {},
   "source": [
    "<img src='screenies/stats.png'>\n",
    "\n",
    "This is an example of the stats I was receiving when train my models."
   ]
  },
  {
   "cell_type": "markdown",
   "id": "2841c3ab-78f1-475a-987e-334bf2b0cc05",
   "metadata": {},
   "source": [
    "# Faster RCNN ResNet101"
   ]
  },
  {
   "cell_type": "markdown",
   "id": "f7dc1863-4773-46b3-ab7f-f86b50f5088c",
   "metadata": {},
   "source": [
    "<img src='screenies/v1-faster_rcnn_resnet101_scaler.png'>"
   ]
  },
  {
   "cell_type": "markdown",
   "id": "8e131da8-1bf8-443a-8317-e22703dac450",
   "metadata": {},
   "source": [
    "I have chosen to take an evaluation at 4k epochs as you can see in the last graph (total_loss) convergence begins to happen around 3-3.5k epochs. I also chose to look at an evaluation at 5k epochs as this is where you can see the classification loss converging. I will be saving the 4k eval as this has lower classification losses. It is very difficult to see if the models are overfitting due to an error in the MS COCO eval."
   ]
  },
  {
   "cell_type": "markdown",
   "id": "ef75eb25-4b6c-4a0b-88af-32e334faf882",
   "metadata": {},
   "source": [
    "Checkpoint 5 of the model has been selected as the checkpoint is made at exactly 4k epochs."
   ]
  },
  {
   "cell_type": "markdown",
   "id": "a5ef62c7-d6a0-4b46-b885-53f1b53330f8",
   "metadata": {},
   "source": [
    "Precision and Recall 4k epochs\n",
    "\n",
    "<img src=\"screenies/precision_and_recall.png\">\n",
    "\n",
    "Precision and Recall 5k epochs\n",
    "\n",
    "<img src=\"screenies/v2-faster_rcnn_resnet101_prec_recall.png\">"
   ]
  },
  {
   "cell_type": "markdown",
   "id": "8486a916-f6fd-4030-9056-6cf06ce086f2",
   "metadata": {},
   "source": [
    "## Detection Examples"
   ]
  },
  {
   "cell_type": "markdown",
   "id": "6950ca57-ebfa-448d-9c80-3c6cae5ca14a",
   "metadata": {},
   "source": [
    "<img src=\"screenies/detection0.png\"><img src=\"screenies/detection1.png\"><img src=\"screenies/detection2.png\">"
   ]
  },
  {
   "cell_type": "markdown",
   "id": "15e4639f-f879-450a-bdaf-aa0190bc5cc8",
   "metadata": {},
   "source": [
    "# Testing other model architectures"
   ]
  },
  {
   "cell_type": "markdown",
   "id": "a80216a4-0529-4b2e-aa49-cec5dc241f66",
   "metadata": {},
   "source": [
    "Before I begin inferencing the model. I want to see how the performance of the other model architectures compare to see if \n",
    "a higher performance model can be developed."
   ]
  },
  {
   "cell_type": "markdown",
   "id": "866c85ec-0a73-4de3-abfa-a08312bd9633",
   "metadata": {},
   "source": [
    "### SSD resNet152"
   ]
  },
  {
   "cell_type": "markdown",
   "id": "a85ef913-c153-42eb-82ea-65b05c5048ff",
   "metadata": {},
   "source": [
    "<img src=\"screenies/v1_ssd_scalers_10k.png\">"
   ]
  },
  {
   "cell_type": "markdown",
   "id": "1437500e-be6e-4634-8ab8-fcf1a57aab5d",
   "metadata": {},
   "source": [
    "<img src=\"screenies/v1-ssd-prec-recall.png\">"
   ]
  },
  {
   "cell_type": "markdown",
   "id": "38948c6b-2c11-48bd-9377-52da368e4ee2",
   "metadata": {},
   "source": [
    "I decided to increase the epochs to 10k for this model as it wasn't seeming to converge, even after the increase it still hasn't converged however I can see that compared to the faster RCNN model above. The performance of the SSD is very poor and presenting loss values much higher than the faster RCNN with no apparent progress towards lower losses.\n",
    "This is not suprising as the SSD is a very fast detection model usually more focused for tasks that invlove large differencial objects like spotting a car from a van. As we are detecting birds to a sub species level the performance of an SSD model would not be sufficient. "
   ]
  },
  {
   "cell_type": "markdown",
   "id": "c623b437-fdb4-40e1-ad7a-43a56ea5b4d4",
   "metadata": {},
   "source": [
    "<img src=\"screenies/ssd_exampleofmissed.png\">"
   ]
  },
  {
   "cell_type": "markdown",
   "id": "e4e176bb-9e10-4eb4-ad25-f03b1a4ff321",
   "metadata": {},
   "source": [
    "One of the first missed object detections that I have discovered from the example set in the first image. This is an interesting one as from human eye it is extremely obvious to tell that the very bright colours are a bird. It is possible this is a bird not present in the dataset. Further research needed."
   ]
  },
  {
   "cell_type": "markdown",
   "id": "08c7aef4-b945-4efb-8a60-0e6d029b831f",
   "metadata": {},
   "source": [
    "### centernet hg104"
   ]
  },
  {
   "cell_type": "markdown",
   "id": "9d76dc97-95ec-48c1-80d0-802569d0d219",
   "metadata": {},
   "source": [
    "<img src=\"screenies/v1-centernet_hg104_scaler1.png\">"
   ]
  },
  {
   "cell_type": "markdown",
   "id": "53240a8c-ddbb-4bc7-8d05-aa5835fdfdad",
   "metadata": {},
   "source": [
    "<img src=\"screenies/v1-centernet_hg104_prec_recall.png\">"
   ]
  },
  {
   "cell_type": "markdown",
   "id": "82b89f0d-fda9-4829-8abb-9680152e89ce",
   "metadata": {},
   "source": [
    "A suitable level of convergence to export the model is shown after roughly 6k steps. The epochs of this model had to be increased from 5800 to 8000 as only minor fluctuations were being made to the graph and not enough to draw a suitable level of convergence to reduce overfitting."
   ]
  },
  {
   "cell_type": "markdown",
   "id": "adae0142-9567-404a-9894-19eaef501a13",
   "metadata": {},
   "source": [
    "## Discussion of Results"
   ]
  },
  {
   "cell_type": "markdown",
   "id": "79b8b33c-9b36-411d-8a3e-51c94a8c6781",
   "metadata": {},
   "source": [
    "After reviewing the training and eval results of each model. I will be focusing my efforts to inferencing the faster RCNN resnet101 model only as I have a limited time frame. The faster RCNN resnet101 produced lower losses on average in most of the measurements including classification loss and localization loss."
   ]
  },
  {
   "cell_type": "code",
   "execution_count": null,
   "id": "64517c47-47c3-4e65-b2f1-6218b0e0b158",
   "metadata": {},
   "outputs": [],
   "source": []
  }
 ],
 "metadata": {
  "kernelspec": {
   "display_name": "Python 3",
   "language": "python",
   "name": "python3"
  },
  "language_info": {
   "codemirror_mode": {
    "name": "ipython",
    "version": 3
   },
   "file_extension": ".py",
   "mimetype": "text/x-python",
   "name": "python",
   "nbconvert_exporter": "python",
   "pygments_lexer": "ipython3",
   "version": "3.8.11"
  }
 },
 "nbformat": 4,
 "nbformat_minor": 5
}
